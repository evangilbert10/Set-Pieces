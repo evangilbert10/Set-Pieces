{
  "nbformat": 4,
  "nbformat_minor": 0,
  "metadata": {
    "colab": {
      "name": "Dash DataTable - 2021 Big Data Cup.ipynb",
      "provenance": [],
      "authorship_tag": "ABX9TyOsD4xmFI//wcG53UJgZ9g+"
    },
    "kernelspec": {
      "name": "python3",
      "display_name": "Python 3"
    },
    "language_info": {
      "name": "python"
    }
  },
  "cells": [
    {
      "cell_type": "code",
      "metadata": {
        "colab": {
          "base_uri": "https://localhost:8080/"
        },
        "id": "U2M9CaFrGA5k",
        "outputId": "929670e7-0aa9-45a3-ec8c-72c4cda9c20b"
      },
      "source": [
        "pip install dash==1.20.0"
      ],
      "execution_count": 1,
      "outputs": [
        {
          "output_type": "stream",
          "text": [
            "Collecting dash==1.20.0\n",
            "\u001b[?25l  Downloading https://files.pythonhosted.org/packages/d4/50/e7c2830168db186f84b7de2988543e974433a6cdb0a0b23d51c781e2b2ab/dash-1.20.0.tar.gz (77kB)\n",
            "\r\u001b[K     |████▏                           | 10kB 12.0MB/s eta 0:00:01\r\u001b[K     |████████▍                       | 20kB 16.5MB/s eta 0:00:01\r\u001b[K     |████████████▋                   | 30kB 20.2MB/s eta 0:00:01\r\u001b[K     |████████████████▉               | 40kB 21.9MB/s eta 0:00:01\r\u001b[K     |█████████████████████           | 51kB 8.7MB/s eta 0:00:01\r\u001b[K     |█████████████████████████▎      | 61kB 8.6MB/s eta 0:00:01\r\u001b[K     |█████████████████████████████▌  | 71kB 7.7MB/s eta 0:00:01\r\u001b[K     |████████████████████████████████| 81kB 4.5MB/s \n",
            "\u001b[?25hRequirement already satisfied: Flask>=1.0.4 in /usr/local/lib/python3.7/dist-packages (from dash==1.20.0) (1.1.4)\n",
            "Collecting flask-compress\n",
            "  Downloading https://files.pythonhosted.org/packages/75/fa/a3c96f3f367ad1d6532fa8394c9a6f5879513868207096f6b41f4168b342/Flask_Compress-1.10.1-py3-none-any.whl\n",
            "Requirement already satisfied: plotly in /usr/local/lib/python3.7/dist-packages (from dash==1.20.0) (4.4.1)\n",
            "Collecting dash_renderer==1.9.1\n",
            "\u001b[?25l  Downloading https://files.pythonhosted.org/packages/5f/d3/d661a68b4ce71498d5c0c79617bce3d5fc884d4448c698f77c2247cd1b46/dash_renderer-1.9.1.tar.gz (1.0MB)\n",
            "\u001b[K     |████████████████████████████████| 1.0MB 9.3MB/s \n",
            "\u001b[?25hCollecting dash-core-components==1.16.0\n",
            "\u001b[?25l  Downloading https://files.pythonhosted.org/packages/f4/79/434e14d77dbf82b27f98df077936a424de254059d47152b0445b7116e97e/dash_core_components-1.16.0.tar.gz (3.5MB)\n",
            "\u001b[K     |████████████████████████████████| 3.5MB 17.0MB/s \n",
            "\u001b[?25hCollecting dash-html-components==1.1.3\n",
            "\u001b[?25l  Downloading https://files.pythonhosted.org/packages/8f/ca/7eeca4cae4e15cc6f7d0bc41a46368dd3fcdddc72aaa5bac61a8b92d541c/dash_html_components-1.1.3.tar.gz (82kB)\n",
            "\u001b[K     |████████████████████████████████| 92kB 10.4MB/s \n",
            "\u001b[?25hCollecting dash-table==4.11.3\n",
            "\u001b[?25l  Downloading https://files.pythonhosted.org/packages/97/f7/f4969a926f20a55d3e5970d01b85ff9ad510dba32de189e72dd8f4992740/dash_table-4.11.3.tar.gz (1.8MB)\n",
            "\u001b[K     |████████████████████████████████| 1.8MB 28.8MB/s \n",
            "\u001b[?25hRequirement already satisfied: future in /usr/local/lib/python3.7/dist-packages (from dash==1.20.0) (0.16.0)\n",
            "Requirement already satisfied: Jinja2<3.0,>=2.10.1 in /usr/local/lib/python3.7/dist-packages (from Flask>=1.0.4->dash==1.20.0) (2.11.3)\n",
            "Requirement already satisfied: itsdangerous<2.0,>=0.24 in /usr/local/lib/python3.7/dist-packages (from Flask>=1.0.4->dash==1.20.0) (1.1.0)\n",
            "Requirement already satisfied: Werkzeug<2.0,>=0.15 in /usr/local/lib/python3.7/dist-packages (from Flask>=1.0.4->dash==1.20.0) (1.0.1)\n",
            "Requirement already satisfied: click<8.0,>=5.1 in /usr/local/lib/python3.7/dist-packages (from Flask>=1.0.4->dash==1.20.0) (7.1.2)\n",
            "Collecting brotli\n",
            "\u001b[?25l  Downloading https://files.pythonhosted.org/packages/15/ea/5bd575511b37bbd1c794606a0a621e6feff8e96b7dd007a86a5d218b2d94/Brotli-1.0.9-cp37-cp37m-manylinux1_x86_64.whl (357kB)\n",
            "\u001b[K     |████████████████████████████████| 358kB 31.6MB/s \n",
            "\u001b[?25hRequirement already satisfied: retrying>=1.3.3 in /usr/local/lib/python3.7/dist-packages (from plotly->dash==1.20.0) (1.3.3)\n",
            "Requirement already satisfied: six in /usr/local/lib/python3.7/dist-packages (from plotly->dash==1.20.0) (1.15.0)\n",
            "Requirement already satisfied: MarkupSafe>=0.23 in /usr/local/lib/python3.7/dist-packages (from Jinja2<3.0,>=2.10.1->Flask>=1.0.4->dash==1.20.0) (2.0.1)\n",
            "Building wheels for collected packages: dash, dash-renderer, dash-core-components, dash-html-components, dash-table\n",
            "  Building wheel for dash (setup.py) ... \u001b[?25l\u001b[?25hdone\n",
            "  Created wheel for dash: filename=dash-1.20.0-cp37-none-any.whl size=85845 sha256=4614507afd394b0761192eb6b9e56a2dfb7acc581e648ce4b58a9f88bb68e773\n",
            "  Stored in directory: /root/.cache/pip/wheels/e6/33/41/ce361d0d1da277d2350f815b10f2ab1e331592d93ef2b07e29\n",
            "  Building wheel for dash-renderer (setup.py) ... \u001b[?25l\u001b[?25hdone\n",
            "  Created wheel for dash-renderer: filename=dash_renderer-1.9.1-cp37-none-any.whl size=1014873 sha256=0f864d0055c846611d9e39a7a8840289e1c489e2c917c50058a7cb6ca79e9a7c\n",
            "  Stored in directory: /root/.cache/pip/wheels/03/a9/c5/dd5815c601b0ede164c223ffd7bafebde716ca57de06ef8aec\n",
            "  Building wheel for dash-core-components (setup.py) ... \u001b[?25l\u001b[?25hdone\n",
            "  Created wheel for dash-core-components: filename=dash_core_components-1.16.0-cp37-none-any.whl size=3540992 sha256=1aaff3e789babeff23ea336d56c1f39c7cc4aecb01cae3ca71bc7046d505b749\n",
            "  Stored in directory: /root/.cache/pip/wheels/86/1e/8c/e87ebba30b73c20dcd641224274febc983af88ed0fd7712a07\n",
            "  Building wheel for dash-html-components (setup.py) ... \u001b[?25l\u001b[?25hdone\n",
            "  Created wheel for dash-html-components: filename=dash_html_components-1.1.3-cp37-none-any.whl size=319488 sha256=d005fc6f218ca38d288066ee301e3869004678b6f9aced5de4b94bcf3050f34c\n",
            "  Stored in directory: /root/.cache/pip/wheels/07/f9/6c/f9b73a6ae1b7f347a92dc240293cebc267b370ba2a80added2\n",
            "  Building wheel for dash-table (setup.py) ... \u001b[?25l\u001b[?25hdone\n",
            "  Created wheel for dash-table: filename=dash_table-4.11.3-cp37-none-any.whl size=1827623 sha256=2c7ee6d8a7845a795eff4d01346f49b0d3501a35450875db1b822bcc3c40e300\n",
            "  Stored in directory: /root/.cache/pip/wheels/51/9b/89/374be1bc250e28a15edbd657cf364f163e392ba5257bfd0e87\n",
            "Successfully built dash dash-renderer dash-core-components dash-html-components dash-table\n",
            "Installing collected packages: brotli, flask-compress, dash-renderer, dash-core-components, dash-html-components, dash-table, dash\n",
            "Successfully installed brotli-1.0.9 dash-1.20.0 dash-core-components-1.16.0 dash-html-components-1.1.3 dash-renderer-1.9.1 dash-table-4.11.3 flask-compress-1.10.1\n"
          ],
          "name": "stdout"
        }
      ]
    },
    {
      "cell_type": "code",
      "metadata": {
        "id": "vRw5XnuQGACz"
      },
      "source": [
        "import dash\n",
        "import dash_table\n",
        "import pandas as pd\n",
        "\n",
        "df = pd.read_csv('https://raw.githubusercontent.com/bigdatacup/Big-Data-Cup-2021/main/hackathon_womens.csv')\n",
        "\n",
        "app = dash.Dash(__name__)\n",
        "\n",
        "app.layout = dash_table.DataTable(\n",
        "    id='table',\n",
        "    columns=[{\"name\": i, \"id\": i} for i in df.columns],\n",
        "    data=df.to_dict('records'),\n",
        ")\n",
        "\n",
        "if __name__ == '__main__':\n",
        "    app.run_server(debug=True)"
      ],
      "execution_count": null,
      "outputs": []
    }
  ]
}